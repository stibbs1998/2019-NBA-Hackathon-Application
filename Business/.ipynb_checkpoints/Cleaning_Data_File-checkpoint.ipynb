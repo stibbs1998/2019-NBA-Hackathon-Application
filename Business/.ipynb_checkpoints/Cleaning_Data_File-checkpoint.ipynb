{
 "cells": [
  {
   "cell_type": "code",
   "execution_count": 42,
   "metadata": {},
   "outputs": [],
   "source": [
    "import numpy as np\n",
    "import pandas as pd\n",
    "import csv\n",
    "import datetime as dt\n",
    "import warnings\n",
    "import matplotlib.pyplot as plt\n",
    "warnings.filterwarnings('ignore')"
   ]
  },
  {
   "cell_type": "markdown",
   "metadata": {},
   "source": [
    "# Clean Data"
   ]
  },
  {
   "cell_type": "code",
   "execution_count": 19,
   "metadata": {},
   "outputs": [],
   "source": [
    "# Load in Original Files\n",
    "train = pd.read_csv('training_set.csv',encoding='ISO-8859-1',dtype=str) \n",
    "test = pd.read_csv('holdout_set.csv',encoding='ISO-8859-1',dtype=str)\n",
    "\n",
    "# Convert Engagements and Followers columns to int64\n",
    "train['Engagements'] = train['Engagements'].astype(int)\n",
    "train['Followers at Posting'] = train['Followers at Posting'].astype(int)\n",
    "test['Followers at Posting'] = test['Followers at Posting'].astype(int)\n",
    "\n",
    "# Convert columns to Datetime objects\n",
    "train.Created = pd.to_datetime(train.Created)\n",
    "test.Created = pd.to_datetime(test.Created)\n",
    "\n",
    "# Get the day of the week, and convert the time of the day into seconds\n",
    "def split_time(df):\n",
    "    df['Day_of_Week'] = [d.date().weekday() for d in df['Created']]\n",
    "    df['Time'] = [d.time() for d in df['Created']]\n",
    "    df[['Hour','Minute','Seconds']] = df.Time.astype(str).str.split(':',expand=True).astype(int)\n",
    "    df['Time_in_seconds'] = df.Hour * 3600 + df.Minute*60 + df.Seconds\n",
    "    df = df.drop(columns=['Created','Time','Hour','Minute','Seconds'])\n",
    "    return df    \n",
    "train = split_time(train)\n",
    "test = split_time(test)"
   ]
  },
  {
   "cell_type": "code",
   "execution_count": 20,
   "metadata": {},
   "outputs": [],
   "source": [
    "# One hot-encode the 'Type' column.\n",
    "\n",
    "train[['Album','Photo','Video']] = pd.get_dummies(train.Type)\n",
    "test[['Album','Photo','Video']] = pd.get_dummies(test.Type)\n",
    "\n",
    "train = train.drop(columns='Type')\n",
    "test = test.drop(columns='Type')"
   ]
  },
  {
   "cell_type": "code",
   "execution_count": 21,
   "metadata": {},
   "outputs": [],
   "source": [
    "# boilerplate taken from https://towardsdatascience.com/sentiment-analysis-with-python-part-1-5ce197074184\n",
    "import re\n",
    "\n",
    "REPLACE_NO_SPACE = re.compile(\"[.;@:&!\\'?,\\\"()\\[\\]]\")\n",
    "REPLACE_WITH_SPACE = re.compile(\"(<br\\s*/><br\\s*/>)|(\\-)|(\\/)\")\n",
    "\n",
    "def preprocess_reviews(text):\n",
    "    text = [REPLACE_NO_SPACE.sub(\"\", str(line).lower()) for line in text]\n",
    "    text = [REPLACE_WITH_SPACE.sub(\" \", str(line)) for line in text]\n",
    "    \n",
    "    return text\n",
    "\n",
    "train_clean = preprocess_reviews(train['Description'])\n",
    "test_clean = preprocess_reviews(test['Description'])\n",
    "\n",
    "train.Description = train_clean\n",
    "test.Description = test_clean"
   ]
  },
  {
   "cell_type": "markdown",
   "metadata": {},
   "source": [
    "# Modeling"
   ]
  },
  {
   "cell_type": "code",
   "execution_count": 22,
   "metadata": {},
   "outputs": [],
   "source": [
    "from sklearn.feature_extraction.text import CountVectorizer\n",
    "\n",
    "cv = CountVectorizer(binary=True)\n",
    "cv.fit(train_clean)\n",
    "X = cv.transform(train_clean)\n",
    "X_test = cv.transform(test_clean)"
   ]
  },
  {
   "cell_type": "markdown",
   "metadata": {},
   "source": [
    "The top 30% of posts ranked by number of engagements will be marked as \"Positive\", while the bottom 70% marked as \"Negative\"."
   ]
  },
  {
   "cell_type": "code",
   "execution_count": 23,
   "metadata": {},
   "outputs": [
    {
     "name": "stdout",
     "output_type": "stream",
     "text": [
      "Accuracy for C=0.01: 0.731719876416066\n",
      "Accuracy for C=0.05: 0.786302780638517\n",
      "Accuracy for C=0.25: 0.8074150360453141\n",
      "Accuracy for C=0.5: 0.8125643666323378\n",
      "Accuracy for C=1: 0.8027806385169928\n",
      "Best C value: C=0.500000\n"
     ]
    }
   ],
   "source": [
    "from sklearn.linear_model import LogisticRegression\n",
    "from sklearn.metrics import accuracy_score\n",
    "from sklearn.model_selection import train_test_split\n",
    "\n",
    "target = (train.Engagements > np.nanpercentile(train.Engagements,70) ).astype(int)\n",
    "\n",
    "X_train, X_val, y_train, y_val = train_test_split(\n",
    "    X, target, train_size = 0.75\n",
    ")\n",
    "\n",
    "best_score = 0\n",
    "best_c = 0 \n",
    "\n",
    "for c in [0.01, 0.05, 0.25, 0.5, 1]:\n",
    "    \n",
    "    lr = LogisticRegression(C=c)\n",
    "    lr.fit(X_train, y_train)\n",
    "    print (\"Accuracy for C=%s: %s\" \n",
    "           % (c, accuracy_score(y_val, lr.predict(X_val))))\n",
    "    \n",
    "    if accuracy_score(y_val, lr.predict(X_val)) > best_score:\n",
    "        best_score = accuracy_score(y_val, lr.predict(X_val))\n",
    "        best_c = c\n",
    "        \n",
    "print(\"Best C value: C=%f\" %best_c)"
   ]
  },
  {
   "cell_type": "code",
   "execution_count": 24,
   "metadata": {},
   "outputs": [],
   "source": [
    "final_model = LogisticRegression(C=best_c)\n",
    "final_model.fit(X, target);"
   ]
  },
  {
   "cell_type": "markdown",
   "metadata": {},
   "source": [
    "Create a Dictionary containing each word and its associated score."
   ]
  },
  {
   "cell_type": "code",
   "execution_count": 25,
   "metadata": {},
   "outputs": [],
   "source": [
    "feature_to_coef = {\n",
    "    word: coef for word, coef in zip(\n",
    "        cv.get_feature_names(), final_model.coef_[0]\n",
    "    )\n",
    "}"
   ]
  },
  {
   "cell_type": "markdown",
   "metadata": {},
   "source": [
    "Give each Description a score based on the scores given for each word."
   ]
  },
  {
   "cell_type": "code",
   "execution_count": 26,
   "metadata": {},
   "outputs": [],
   "source": [
    "def get_description_score(df):\n",
    "    post_score = []\n",
    "    for row in df.Description.str.split():\n",
    "        count= 0\n",
    "        for word in row:\n",
    "            if word in feature_to_coef.keys():\n",
    "                count += feature_to_coef[word]\n",
    "        post_score.append(count)\n",
    "    df['Description_Score'] = post_score\n",
    "    return df"
   ]
  },
  {
   "cell_type": "code",
   "execution_count": 27,
   "metadata": {},
   "outputs": [],
   "source": [
    "train = get_description_score(train)\n",
    "test = get_description_score(test)"
   ]
  },
  {
   "cell_type": "code",
   "execution_count": 29,
   "metadata": {},
   "outputs": [],
   "source": [
    "train.to_csv('clean_training_set.csv',index=False)\n",
    "test.to_csv('clean_test_set.csv',index=False)"
   ]
  }
 ],
 "metadata": {
  "kernelspec": {
   "display_name": "Python 3",
   "language": "python",
   "name": "python3"
  },
  "language_info": {
   "codemirror_mode": {
    "name": "ipython",
    "version": 3
   },
   "file_extension": ".py",
   "mimetype": "text/x-python",
   "name": "python",
   "nbconvert_exporter": "python",
   "pygments_lexer": "ipython3",
   "version": "3.7.3"
  }
 },
 "nbformat": 4,
 "nbformat_minor": 4
}
