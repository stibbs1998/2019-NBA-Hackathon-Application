{
 "cells": [
  {
   "cell_type": "code",
   "execution_count": null,
   "metadata": {},
   "outputs": [],
   "source": [
    "import numpy as np\n",
    "import pandas as pd\n",
    "import seaborn as sns\n",
    "import csv"
   ]
  },
  {
   "cell_type": "markdown",
   "metadata": {},
   "source": [
    "### Which event codes matter here:\n",
    "*  made field goal attempts\n",
    "*  made final free throw attempt\n",
    "*  missed final free throw attempt that results in a defensive rebound\n",
    "*  missed field goal attempt that results in a defensive rebound\n",
    "* (5) turnover\n",
    "* (13) end of time period.\n",
    "* (8) substitutions"
   ]
  },
  {
   "cell_type": "markdown",
   "metadata": {},
   "source": [
    "## Notes\n",
    "* Deadball rebounds are always offensive, so they do not matter.\n",
    "\n",
    "Keep in mind we have to keep track of each players:\n",
    "* Number of offensive possesions\n",
    "* Number of defensive possessions\n",
    "* Team points allowed while on court\n",
    "* Team points scored while on court"
   ]
  },
  {
   "cell_type": "markdown",
   "metadata": {},
   "source": [
    "## Assumptions\n",
    "\n",
    "* In the Game_Lineup.txt file, the 0th period lists all players for each team, and then each period lists the starters for that period."
   ]
  },
  {
   "cell_type": "markdown",
   "metadata": {},
   "source": [
    "#### Clean the Object data"
   ]
  },
  {
   "cell_type": "code",
   "execution_count": null,
   "metadata": {},
   "outputs": [],
   "source": [
    "game_lineup = pd.read_csv('Game_Lineup.txt',sep='\\s+')\n",
    "play_by_play = pd.read_csv('Play_by_Play.txt',sep='\\s+')\n",
    "event_codes = pd.read_csv('Event_Codes.txt',sep='\\s+',)"
   ]
  },
  {
   "cell_type": "code",
   "execution_count": null,
   "metadata": {},
   "outputs": [],
   "source": [
    "for col in game_lineup.columns.values:\n",
    "    if game_lineup[col].dtype=='object':\n",
    "        game_lineup[col] = game_lineup[col].str.strip()\n",
    "        \n",
    "for col in play_by_play.columns.values:\n",
    "    if play_by_play[col].dtype=='object':\n",
    "        play_by_play[col] = play_by_play[col].str.strip()\n",
    "        \n",
    "for col in event_codes.columns.values:\n",
    "    if event_codes[col].dtype=='object':\n",
    "        event_codes[col] = event_codes[col].str.strip()"
   ]
  },
  {
   "cell_type": "markdown",
   "metadata": {},
   "source": [
    "#### Order the games by Event_Num and create NaN values to clear up data."
   ]
  },
  {
   "cell_type": "code",
   "execution_count": null,
   "metadata": {},
   "outputs": [],
   "source": [
    "play_by_play = play_by_play.sort_values([\"Game_id\",\"Period\",\"PC_Time\",\"Event_Num\"],ascending=[True,True,False,True])\n",
    "\n",
    "play_by_play = play_by_play.replace('0370a0d090da0d0edc6319f120187e0e','NBA')\n",
    "play_by_play = play_by_play.replace('1473d70e5646a26de3c52aa1abd85b1f','NBA')"
   ]
  },
  {
   "cell_type": "markdown",
   "metadata": {},
   "source": [
    "### Map each player to the correct team."
   ]
  },
  {
   "cell_type": "code",
   "execution_count": null,
   "metadata": {},
   "outputs": [],
   "source": [
    "team_mapper = {}\n",
    "for player in play_by_play['Person1'].unique():\n",
    "    if len(game_lineup[game_lineup['Person_id']==player][\"Team_id\"].unique()) > 0:\n",
    "        team_mapper[player] = game_lineup[game_lineup['Person_id']==player][\"Team_id\"].unique()[0]\n",
    "\n",
    "# correct team values, merge with original Team_id identifier\n",
    "team_id2 = play_by_play.Person1.apply(lambda x: team_mapper[x] if x in team_mapper else np.NaN) \n",
    "play_by_play.Team_id = team_id2.fillna(play_by_play.Team_id)  # use the mapped team identifier where possible, if not possible go with what the data gave us"
   ]
  },
  {
   "cell_type": "markdown",
   "metadata": {},
   "source": [
    "### Lets try to get this working for one single game."
   ]
  },
  {
   "cell_type": "code",
   "execution_count": null,
   "metadata": {},
   "outputs": [],
   "source": [
    "game_id = \"9b718cc561cecf4da6d0632def573409\"\n",
    "game1 = play_by_play[play_by_play.Game_id==game_id].reset_index()\n",
    "\n",
    "cols = game1.columns.tolist()"
   ]
  },
  {
   "cell_type": "markdown",
   "metadata": {},
   "source": [
    "A possession is ended by \n",
    "* (1) made field goal attempts\n",
    "* (2) made final free throw attempt\n",
    "* (3) missed final free throw attempt that results in a defensive rebound,\n",
    "* (4) missed field goal attempt that results in a defensive rebound\n",
    "* (5) turnover\n",
    "* (6) end of time period."
   ]
  },
  {
   "cell_type": "code",
   "execution_count": null,
   "metadata": {},
   "outputs": [],
   "source": [
    "players = pd.DataFrame(index=game_lineup[(game_lineup.Game_id==game_id) & (game_lineup.Period==0)]['Person_id'].tolist(),columns=['PossessionsFor','PointsFor','PossessionsAgainst','PointsAgainst'])\n",
    "players['Person_id'] = players.index\n",
    "players = players.fillna(0)\n",
    "players['Team_id'] = game_lineup[(game_lineup.Game_id==game_id) & (game_lineup.Period==0)]['Team_id'].tolist()\n",
    "\n",
    "incoming_sub = False\n",
    "entering = []\n",
    "leaving = []\n",
    "\n",
    "for row in game1.iterrows():\n",
    "\n",
    "    print(row[0])\n",
    "    instance = row[1].tolist()\n",
    "    event_msg_type = instance[cols.index(\"Event_Msg_Type\")]\n",
    "    \n",
    "    if incoming_sub and instance[cols.index(\"PC_Time\")] != substitution_time:\n",
    "        \n",
    "        [on_court.append(player) for player in entering]\n",
    "        [on_court.remove(player) for player in leaving]\n",
    "        incoming_sub = False # reset the indicator\n",
    "        entering = []\n",
    "        leaving = []\n",
    "\n",
    "    \n",
    "    if event_msg_type==1: # made shot\n",
    "         \n",
    "        points = instance[cols.index(\"Option1\")]\n",
    "        team_off = instance[cols.index(\"Team_id\")]\n",
    "\n",
    "        players.PointsFor = players.PointsFor + (players.where((players.Person_id.isin(on_court)) & (players.Team_id==team_off))['PointsFor'].apply(lambda x: x*0) + points).fillna(0)\n",
    "        players.PointsAgainst = players.PointsAgainst + (players.where((players.Person_id.isin(on_court)) & (players.Team_id!=team_off))['PointsAgainst'].apply(lambda x: x*0) + points).fillna(0)\n",
    "        \n",
    "        players.PossessionsFor = players.PossessionsFor + (players.where((players.Person_id.isin(on_court)) & (players.Team_id==team_off))['PossessionsFor'].apply(lambda x: x*0) + 1).fillna(0)\n",
    "        players.PossessionsAgainst = players.PossessionsAgainst + (players.where((players.Person_id.isin(on_court)) & (players.Team_id!=team_off))['PossessionsAgainst'].apply(lambda x: x*0) + 1).fillna(0)\n",
    "        \n",
    "    elif event_msg_type==2 and game1.iloc[(row[0]+1)][\"Event_Msg_Type\"]==4: # missed shot followed by a rebound\n",
    "        \n",
    "        team_off = instance[cols.index(\"Team_id\")]\n",
    "        team_reb = game1.iloc[(row[0]+1)][\"Team_id\"] # team that got the rebound\n",
    "        \n",
    "        if team_off != team_reb: # defensive rebound, so a change of possession occured\n",
    "            \n",
    "            players.PossessionsFor = players.PossessionsFor + (players.where((players.Person_id.isin(on_court)) & (players.Team_id==team_off))['PossessionsFor'].apply(lambda x: x*0) + 1).fillna(0)\n",
    "            players.PossessionsAgainst = players.PossessionsAgainst + (players.where((players.Person_id.isin(on_court)) & (players.Team_id!=team_off))['PossessionsAgainst'].apply(lambda x: x*0) + 1).fillna(0)\n",
    "        \n",
    "    elif event_msg_type==3 and instance[cols.index(\"Action_Type\")] in [10,12,15,19,20,22,26,29]: # all of these action types signify the last free throw\n",
    "        \n",
    "        # last free throw taken, option1 has the \n",
    "        # total points accumulated on the taken free throws\n",
    "        \n",
    "        team_off = instance[cols.index(\"Team_id\")]\n",
    "        \n",
    "        points = instance[cols.index(\"Option1\")]\n",
    "        players.PointsFor = players.PointsFor + (players.where((players.Person_id.isin(on_court)) & (players.Team_id==team_off))['PointsFor'].apply(lambda x: x*0) + points).fillna(0)\n",
    "        players.PointsAgainst = players.PointsAgainst + (players.where((players.Person_id.isin(on_court)) & (players.Team_id!=team_off))['PointsAgainst'].apply(lambda x: x*0) + points).fillna(0)\n",
    "        \n",
    "        if game1.iloc[(row[0]+1)][\"Event_Msg_Type\"]==4 and game1.iloc[(row[0]+1)][\"Team_id\"]==team_off:  # this means that the last free throw attempt was missed, and a offensive rebound occured\n",
    "            \n",
    "            None # do nothing\n",
    "            \n",
    "        else: # otherwise, either a defensive rebound occured or the shot was made, ending the possession\n",
    "            \n",
    "            players.PossessionsFor = players.PossessionsFor + (players.where((players.Person_id.isin(on_court)) & (players.Team_id==team_off))['PossessionsFor'].apply(lambda x: x*0) + 1).fillna(0)\n",
    "            players.PossessionsAgainst = players.PossessionsAgainst + (players.where((players.Person_id.isin(on_court)) & (players.Team_id!=team_off))['PossessionsAgainst'].apply(lambda x: x*0) + 1).fillna(0)\n",
    "        \n",
    "    elif event_msg_type==5: # the team associated with the event number is the team who LOST possesion\n",
    "        \n",
    "        team_off = instance[cols.index(\"Team_id\")]\n",
    "        players.PossessionsFor = players.PossessionsFor + (players.where((players.Person_id.isin(on_court)) & (players.Team_id==team_off))['PossessionsFor'].apply(lambda x: x*0) + 1).fillna(0)\n",
    "        players.PossessionsAgainst = players.PossessionsAgainst + (players.where((players.Person_id.isin(on_court)) & (players.Team_id!=team_off))['PossessionsAgainst'].apply(lambda x: x*0) + 1).fillna(0)\n",
    "        \n",
    "    elif event_msg_type==8: # substitution! Person1 LEAVES the court, Person2 ENTERS\n",
    "        \n",
    "        # new players are not technically on the court until the game clock starts moving\n",
    "        \n",
    "        incoming_sub = True\n",
    "        leave = instance[cols.index(\"Person1\")]\n",
    "        enter = instance[cols.index(\"Person2\")]\n",
    "        substitution_time = instance[cols.index(\"PC_Time\")]\n",
    "        \n",
    "        entering.append(enter)\n",
    "        leaving.append(leave)\n",
    "            \n",
    "    \n",
    "    elif event_msg_type==12: # start of period\n",
    "\n",
    "        period = instance[cols.index(\"Period\")]\n",
    "        on_court = game_lineup[(game_lineup.Game_id==game_id) & (game_lineup.Period==period)]['Person_id'].tolist()\n",
    "        \n",
    "    elif event_msg_type==13: # end of period\n",
    "        \n",
    "        players.PossessionsFor = players.PossessionsFor + (players.where((players.Person_id.isin(on_court)) & (players.Team_id==team_off))['PossessionsFor'].apply(lambda x: x*0) + 1).fillna(0)\n",
    "        players.PossessionsAgainst = players.PossessionsAgainst + (players.where((players.Person_id.isin(on_court)) & (players.Team_id!=team_off))['PossessionsAgainst'].apply(lambda x: x*0) + 1).fillna(0)"
   ]
  },
  {
   "cell_type": "code",
   "execution_count": null,
   "metadata": {},
   "outputs": [],
   "source": [
    "players['Offensive_Rating'] = 100* players.PointsFor/players.PossessionsFor\n",
    "players['Defensive_Rating'] = 100* players.PointsAgainst/players.PossessionsAgainst"
   ]
  },
  {
   "cell_type": "code",
   "execution_count": null,
   "metadata": {},
   "outputs": [],
   "source": [
    "# players = players.reset_index()\n",
    "\n",
    "with open('spencer_tibbitts.csv', 'w') as writeFile:\n",
    "    writer = csv.writer(writeFile)\n",
    "\n",
    "lines = []\n",
    "for i in range(len(players)):\n",
    "    lines.append([game_id]+[players.iloc[i][\"Team_id\"]] + [players.iloc[i][\"Person_id\"]] + [players.iloc[i][\"Offensive_Efficiency\"]] + [players.iloc[i][\"Defensive_Efficiency\"]])\n",
    "\n",
    "with open('spencer_tibbitts.csv', 'w') as writeFile:\n",
    "    writer = csv.writer(writeFile)\n",
    "    writer.writerow([\"Game_id\",\"Team_id\",\"Person_id\",\"Offensive_Efficiency\",\"Defensive_Efficiency\"])\n",
    "    writer.writerows(lines)"
   ]
  },
  {
   "cell_type": "code",
   "execution_count": null,
   "metadata": {},
   "outputs": [],
   "source": []
  },
  {
   "cell_type": "code",
   "execution_count": null,
   "metadata": {},
   "outputs": [],
   "source": []
  }
 ],
 "metadata": {
  "kernelspec": {
   "display_name": "Python 3",
   "language": "python",
   "name": "python3"
  },
  "language_info": {
   "codemirror_mode": {
    "name": "ipython",
    "version": 3
   },
   "file_extension": ".py",
   "mimetype": "text/x-python",
   "name": "python",
   "nbconvert_exporter": "python",
   "pygments_lexer": "ipython3",
   "version": "3.7.3"
  }
 },
 "nbformat": 4,
 "nbformat_minor": 4
}
