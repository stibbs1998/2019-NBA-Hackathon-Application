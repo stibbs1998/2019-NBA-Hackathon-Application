{
 "cells": [
  {
   "cell_type": "code",
   "execution_count": 86,
   "metadata": {},
   "outputs": [],
   "source": [
    "import numpy as np\n",
    "import pandas as pd\n",
    "import csv"
   ]
  },
  {
   "cell_type": "markdown",
   "metadata": {},
   "source": [
    "### Which event codes matter here:\n",
    "*  made field goal attempts\n",
    "*  made final free throw attempt\n",
    "*  missed final free throw attempt that results in a defensive rebound\n",
    "*  missed field goal attempt that results in a defensive rebound\n",
    "* (5) turnover\n",
    "* (13) end of time period.\n",
    "* (8) substitutions"
   ]
  },
  {
   "cell_type": "markdown",
   "metadata": {},
   "source": [
    "## Notes\n",
    "* Deadball rebounds are always offensive, so they do not matter.\n",
    "\n",
    "Keep in mind we have to keep track of each players:\n",
    "* Number of offensive possesions\n",
    "* Number of defensive possessions\n",
    "* Team points allowed while on court\n",
    "* Team points scored while on court"
   ]
  },
  {
   "cell_type": "markdown",
   "metadata": {},
   "source": [
    "## Assumptions\n",
    "\n",
    "* In the Game_Lineup.txt file, the 0th period lists all players for each team, and then each period lists the starters for that period."
   ]
  },
  {
   "cell_type": "markdown",
   "metadata": {},
   "source": [
    "#### Clean the Object data"
   ]
  },
  {
   "cell_type": "code",
   "execution_count": 135,
   "metadata": {},
   "outputs": [],
   "source": [
    "game_lineup = pd.read_csv('Game_Lineup.txt',sep='\\s+')\n",
    "play_by_play = pd.read_csv('Play_by_Play.txt',sep='\\s+')\n",
    "event_codes = pd.read_csv('Event_Codes.txt',sep='\\s+',)"
   ]
  },
  {
   "cell_type": "code",
   "execution_count": 136,
   "metadata": {},
   "outputs": [],
   "source": [
    "for col in game_lineup.columns.values:\n",
    "    if game_lineup[col].dtype=='object':\n",
    "        game_lineup[col] = game_lineup[col].str.strip()\n",
    "        \n",
    "for col in play_by_play.columns.values:\n",
    "    if play_by_play[col].dtype=='object':\n",
    "        play_by_play[col] = play_by_play[col].str.strip()\n",
    "        \n",
    "for col in event_codes.columns.values:\n",
    "    if event_codes[col].dtype=='object':\n",
    "        event_codes[col] = event_codes[col].str.strip()"
   ]
  },
  {
   "cell_type": "markdown",
   "metadata": {},
   "source": [
    "#### Order the games by Event_Num and create NaN values to clear up data."
   ]
  },
  {
   "cell_type": "code",
   "execution_count": 137,
   "metadata": {},
   "outputs": [],
   "source": [
    "play_by_play = play_by_play.sort_values([\"Game_id\",\"Event_Num\"])\n",
    "\n",
    "play_by_play = play_by_play.replace('0370a0d090da0d0edc6319f120187e0e','NBA')\n",
    "play_by_play = play_by_play.replace('1473d70e5646a26de3c52aa1abd85b1f','NBA')"
   ]
  },
  {
   "cell_type": "markdown",
   "metadata": {},
   "source": [
    "### Lets try to get this working for one single game."
   ]
  },
  {
   "cell_type": "code",
   "execution_count": 139,
   "metadata": {},
   "outputs": [],
   "source": [
    "game1 = play_by_play[play_by_play.Game_id==\"006728e4c10e957011e1f24878e6054a\"]"
   ]
  },
  {
   "cell_type": "code",
   "execution_count": 145,
   "metadata": {},
   "outputs": [],
   "source": [
    "def start_period(game_id,period=1):\n",
    "    for team in play_by_play[play_by_play.Game_id==game_id][\"Team_id\"].unique():\n",
    "        if team!='NBA':\n",
    "            on_court = game_lineup[(game_lineup.Game_id==game_id) & (game_lineup.Team_id==team) & (game_lineup.Period==period)]['Person_id'].tolist()\n",
    "            print(on_court)"
   ]
  },
  {
   "cell_type": "code",
   "execution_count": null,
   "metadata": {},
   "outputs": [],
   "source": []
  }
 ],
 "metadata": {
  "kernelspec": {
   "display_name": "Python 3",
   "language": "python",
   "name": "python3"
  },
  "language_info": {
   "codemirror_mode": {
    "name": "ipython",
    "version": 3
   },
   "file_extension": ".py",
   "mimetype": "text/x-python",
   "name": "python",
   "nbconvert_exporter": "python",
   "pygments_lexer": "ipython3",
   "version": "3.7.3"
  }
 },
 "nbformat": 4,
 "nbformat_minor": 4
}
